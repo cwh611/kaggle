{
 "cells": [
  {
   "cell_type": "code",
   "execution_count": 1,
   "metadata": {},
   "outputs": [
    {
     "name": "stderr",
     "output_type": "stream",
     "text": [
      "2025-04-19 23:04:19.921674: I tensorflow/core/platform/cpu_feature_guard.cc:210] This TensorFlow binary is optimized to use available CPU instructions in performance-critical operations.\n",
      "To enable the following instructions: AVX2 AVX512F AVX512_VNNI FMA, in other operations, rebuild TensorFlow with the appropriate compiler flags.\n"
     ]
    }
   ],
   "source": [
    "import tensorflow\n",
    "from tensorflow import keras\n",
    "from keras import layers, optimizers\n",
    "import numpy as np\n",
    "import pandas as pd\n",
    "import matplotlib.pyplot as plt"
   ]
  },
  {
   "cell_type": "code",
   "execution_count": 2,
   "metadata": {},
   "outputs": [
    {
     "name": "stdout",
     "output_type": "stream",
     "text": [
      "Warning: Your Kaggle API key is readable by other users on this system! To fix this, you can run 'chmod 600 /Users/chuck/.kaggle/kaggle.json'\n"
     ]
    },
    {
     "name": "stderr",
     "output_type": "stream",
     "text": [
      "/Users/chuck/python-projects/kaggle/kidney_disease/venv/lib/python3.10/site-packages/tqdm/auto.py:21: TqdmWarning: IProgress not found. Please update jupyter and ipywidgets. See https://ipywidgets.readthedocs.io/en/stable/user_install.html\n",
      "  from .autonotebook import tqdm as notebook_tqdm\n"
     ]
    }
   ],
   "source": [
    "import kaggle\n",
    "import kagglehub"
   ]
  },
  {
   "cell_type": "code",
   "execution_count": 3,
   "metadata": {},
   "outputs": [],
   "source": [
    "path = kagglehub.dataset_download(\"amanik000/kidney-disease-dataset\")"
   ]
  },
  {
   "cell_type": "code",
   "execution_count": 4,
   "metadata": {},
   "outputs": [],
   "source": [
    "df = pd.read_csv(f\"{path}/kidney_disease_dataset.csv\")"
   ]
  },
  {
   "cell_type": "code",
   "execution_count": 5,
   "metadata": {},
   "outputs": [
    {
     "data": {
      "text/html": [
       "<div>\n",
       "<style scoped>\n",
       "    .dataframe tbody tr th:only-of-type {\n",
       "        vertical-align: middle;\n",
       "    }\n",
       "\n",
       "    .dataframe tbody tr th {\n",
       "        vertical-align: top;\n",
       "    }\n",
       "\n",
       "    .dataframe thead th {\n",
       "        text-align: right;\n",
       "    }\n",
       "</style>\n",
       "<table border=\"1\" class=\"dataframe\">\n",
       "  <thead>\n",
       "    <tr style=\"text-align: right;\">\n",
       "      <th></th>\n",
       "      <th>Age of the patient</th>\n",
       "      <th>Blood pressure (mm/Hg)</th>\n",
       "      <th>Specific gravity of urine</th>\n",
       "      <th>Albumin in urine</th>\n",
       "      <th>Sugar in urine</th>\n",
       "      <th>Red blood cells in urine</th>\n",
       "      <th>Pus cells in urine</th>\n",
       "      <th>Pus cell clumps in urine</th>\n",
       "      <th>Bacteria in urine</th>\n",
       "      <th>Random blood glucose level (mg/dl)</th>\n",
       "      <th>...</th>\n",
       "      <th>Smoking status</th>\n",
       "      <th>Body Mass Index (BMI)</th>\n",
       "      <th>Physical activity level</th>\n",
       "      <th>Duration of diabetes mellitus (years)</th>\n",
       "      <th>Duration of hypertension (years)</th>\n",
       "      <th>Cystatin C level</th>\n",
       "      <th>Urinary sediment microscopy results</th>\n",
       "      <th>C-reactive protein (CRP) level</th>\n",
       "      <th>Interleukin-6 (IL-6) level</th>\n",
       "      <th>Target</th>\n",
       "    </tr>\n",
       "  </thead>\n",
       "  <tbody>\n",
       "    <tr>\n",
       "      <th>0</th>\n",
       "      <td>54</td>\n",
       "      <td>167</td>\n",
       "      <td>1.023</td>\n",
       "      <td>1</td>\n",
       "      <td>4</td>\n",
       "      <td>normal</td>\n",
       "      <td>abnormal</td>\n",
       "      <td>not present</td>\n",
       "      <td>not present</td>\n",
       "      <td>96</td>\n",
       "      <td>...</td>\n",
       "      <td>yes</td>\n",
       "      <td>25.3</td>\n",
       "      <td>low</td>\n",
       "      <td>4</td>\n",
       "      <td>16</td>\n",
       "      <td>0.67</td>\n",
       "      <td>normal</td>\n",
       "      <td>4.88</td>\n",
       "      <td>10.23</td>\n",
       "      <td>No_Disease</td>\n",
       "    </tr>\n",
       "    <tr>\n",
       "      <th>1</th>\n",
       "      <td>42</td>\n",
       "      <td>127</td>\n",
       "      <td>1.023</td>\n",
       "      <td>3</td>\n",
       "      <td>2</td>\n",
       "      <td>normal</td>\n",
       "      <td>normal</td>\n",
       "      <td>not present</td>\n",
       "      <td>present</td>\n",
       "      <td>73</td>\n",
       "      <td>...</td>\n",
       "      <td>no</td>\n",
       "      <td>20.6</td>\n",
       "      <td>moderate</td>\n",
       "      <td>3</td>\n",
       "      <td>13</td>\n",
       "      <td>0.55</td>\n",
       "      <td>abnormal</td>\n",
       "      <td>4.49</td>\n",
       "      <td>13.11</td>\n",
       "      <td>Low_Risk</td>\n",
       "    </tr>\n",
       "    <tr>\n",
       "      <th>2</th>\n",
       "      <td>38</td>\n",
       "      <td>148</td>\n",
       "      <td>1.016</td>\n",
       "      <td>0</td>\n",
       "      <td>0</td>\n",
       "      <td>abnormal</td>\n",
       "      <td>normal</td>\n",
       "      <td>not present</td>\n",
       "      <td>not present</td>\n",
       "      <td>77</td>\n",
       "      <td>...</td>\n",
       "      <td>no</td>\n",
       "      <td>38.4</td>\n",
       "      <td>high</td>\n",
       "      <td>11</td>\n",
       "      <td>23</td>\n",
       "      <td>2.37</td>\n",
       "      <td>abnormal</td>\n",
       "      <td>4.57</td>\n",
       "      <td>13.27</td>\n",
       "      <td>No_Disease</td>\n",
       "    </tr>\n",
       "    <tr>\n",
       "      <th>3</th>\n",
       "      <td>7</td>\n",
       "      <td>98</td>\n",
       "      <td>1.017</td>\n",
       "      <td>4</td>\n",
       "      <td>0</td>\n",
       "      <td>abnormal</td>\n",
       "      <td>normal</td>\n",
       "      <td>not present</td>\n",
       "      <td>present</td>\n",
       "      <td>225</td>\n",
       "      <td>...</td>\n",
       "      <td>no</td>\n",
       "      <td>24.7</td>\n",
       "      <td>high</td>\n",
       "      <td>24</td>\n",
       "      <td>3</td>\n",
       "      <td>2.54</td>\n",
       "      <td>abnormal</td>\n",
       "      <td>8.57</td>\n",
       "      <td>12.36</td>\n",
       "      <td>No_Disease</td>\n",
       "    </tr>\n",
       "    <tr>\n",
       "      <th>4</th>\n",
       "      <td>67</td>\n",
       "      <td>174</td>\n",
       "      <td>1.015</td>\n",
       "      <td>1</td>\n",
       "      <td>1</td>\n",
       "      <td>normal</td>\n",
       "      <td>abnormal</td>\n",
       "      <td>not present</td>\n",
       "      <td>not present</td>\n",
       "      <td>376</td>\n",
       "      <td>...</td>\n",
       "      <td>yes</td>\n",
       "      <td>17.6</td>\n",
       "      <td>high</td>\n",
       "      <td>22</td>\n",
       "      <td>24</td>\n",
       "      <td>1.90</td>\n",
       "      <td>normal</td>\n",
       "      <td>6.75</td>\n",
       "      <td>1.46</td>\n",
       "      <td>No_Disease</td>\n",
       "    </tr>\n",
       "  </tbody>\n",
       "</table>\n",
       "<p>5 rows × 43 columns</p>\n",
       "</div>"
      ],
      "text/plain": [
       "   Age of the patient  Blood pressure (mm/Hg)  Specific gravity of urine  \\\n",
       "0                  54                     167                      1.023   \n",
       "1                  42                     127                      1.023   \n",
       "2                  38                     148                      1.016   \n",
       "3                   7                      98                      1.017   \n",
       "4                  67                     174                      1.015   \n",
       "\n",
       "   Albumin in urine  Sugar in urine Red blood cells in urine  \\\n",
       "0                 1               4                   normal   \n",
       "1                 3               2                   normal   \n",
       "2                 0               0                 abnormal   \n",
       "3                 4               0                 abnormal   \n",
       "4                 1               1                   normal   \n",
       "\n",
       "  Pus cells in urine Pus cell clumps in urine Bacteria in urine  \\\n",
       "0           abnormal              not present       not present   \n",
       "1             normal              not present           present   \n",
       "2             normal              not present       not present   \n",
       "3             normal              not present           present   \n",
       "4           abnormal              not present       not present   \n",
       "\n",
       "   Random blood glucose level (mg/dl)  ...  Smoking status  \\\n",
       "0                                  96  ...             yes   \n",
       "1                                  73  ...              no   \n",
       "2                                  77  ...              no   \n",
       "3                                 225  ...              no   \n",
       "4                                 376  ...             yes   \n",
       "\n",
       "   Body Mass Index (BMI)  Physical activity level  \\\n",
       "0                   25.3                      low   \n",
       "1                   20.6                 moderate   \n",
       "2                   38.4                     high   \n",
       "3                   24.7                     high   \n",
       "4                   17.6                     high   \n",
       "\n",
       "   Duration of diabetes mellitus (years)  Duration of hypertension (years)  \\\n",
       "0                                      4                                16   \n",
       "1                                      3                                13   \n",
       "2                                     11                                23   \n",
       "3                                     24                                 3   \n",
       "4                                     22                                24   \n",
       "\n",
       "   Cystatin C level  Urinary sediment microscopy results  \\\n",
       "0              0.67                               normal   \n",
       "1              0.55                             abnormal   \n",
       "2              2.37                             abnormal   \n",
       "3              2.54                             abnormal   \n",
       "4              1.90                               normal   \n",
       "\n",
       "   C-reactive protein (CRP) level Interleukin-6 (IL-6) level      Target  \n",
       "0                            4.88                      10.23  No_Disease  \n",
       "1                            4.49                      13.11    Low_Risk  \n",
       "2                            4.57                      13.27  No_Disease  \n",
       "3                            8.57                      12.36  No_Disease  \n",
       "4                            6.75                       1.46  No_Disease  \n",
       "\n",
       "[5 rows x 43 columns]"
      ]
     },
     "execution_count": 5,
     "metadata": {},
     "output_type": "execute_result"
    }
   ],
   "source": [
    "df.head()"
   ]
  },
  {
   "cell_type": "code",
   "execution_count": 6,
   "metadata": {},
   "outputs": [
    {
     "name": "stdout",
     "output_type": "stream",
     "text": [
      "<class 'pandas.core.frame.DataFrame'>\n",
      "RangeIndex: 20538 entries, 0 to 20537\n",
      "Data columns (total 43 columns):\n",
      " #   Column                                       Non-Null Count  Dtype  \n",
      "---  ------                                       --------------  -----  \n",
      " 0   Age of the patient                           20538 non-null  int64  \n",
      " 1   Blood pressure (mm/Hg)                       20538 non-null  int64  \n",
      " 2   Specific gravity of urine                    20538 non-null  float64\n",
      " 3   Albumin in urine                             20538 non-null  int64  \n",
      " 4   Sugar in urine                               20538 non-null  int64  \n",
      " 5   Red blood cells in urine                     20538 non-null  object \n",
      " 6   Pus cells in urine                           20538 non-null  object \n",
      " 7   Pus cell clumps in urine                     20538 non-null  object \n",
      " 8   Bacteria in urine                            20538 non-null  object \n",
      " 9   Random blood glucose level (mg/dl)           20538 non-null  int64  \n",
      " 10  Blood urea (mg/dl)                           20538 non-null  float64\n",
      " 11  Serum creatinine (mg/dl)                     20538 non-null  float64\n",
      " 12  Sodium level (mEq/L)                         20538 non-null  float64\n",
      " 13  Potassium level (mEq/L)                      20538 non-null  float64\n",
      " 14  Hemoglobin level (gms)                       20538 non-null  float64\n",
      " 15  Packed cell volume (%)                       20538 non-null  int64  \n",
      " 16  White blood cell count (cells/cumm)          20538 non-null  int64  \n",
      " 17  Red blood cell count (millions/cumm)         20538 non-null  float64\n",
      " 18  Hypertension (yes/no)                        20538 non-null  object \n",
      " 19  Diabetes mellitus (yes/no)                   20538 non-null  object \n",
      " 20  Coronary artery disease (yes/no)             20538 non-null  object \n",
      " 21  Appetite (good/poor)                         20538 non-null  object \n",
      " 22  Pedal edema (yes/no)                         20538 non-null  object \n",
      " 23  Anemia (yes/no)                              20538 non-null  object \n",
      " 24  Estimated Glomerular Filtration Rate (eGFR)  20538 non-null  float64\n",
      " 25  Urine protein-to-creatinine ratio            20538 non-null  float64\n",
      " 26  Urine output (ml/day)                        20538 non-null  int64  \n",
      " 27  Serum albumin level                          20538 non-null  float64\n",
      " 28  Cholesterol level                            20538 non-null  int64  \n",
      " 29  Parathyroid hormone (PTH) level              20538 non-null  float64\n",
      " 30  Serum calcium level                          20538 non-null  float64\n",
      " 31  Serum phosphate level                        20538 non-null  float64\n",
      " 32  Family history of chronic kidney disease     20538 non-null  object \n",
      " 33  Smoking status                               20538 non-null  object \n",
      " 34  Body Mass Index (BMI)                        20538 non-null  float64\n",
      " 35  Physical activity level                      20538 non-null  object \n",
      " 36  Duration of diabetes mellitus (years)        20538 non-null  int64  \n",
      " 37  Duration of hypertension (years)             20538 non-null  int64  \n",
      " 38  Cystatin C level                             20538 non-null  float64\n",
      " 39  Urinary sediment microscopy results          20538 non-null  object \n",
      " 40  C-reactive protein (CRP) level               20538 non-null  float64\n",
      " 41  Interleukin-6 (IL-6) level                   20538 non-null  float64\n",
      " 42  Target                                       20538 non-null  object \n",
      "dtypes: float64(17), int64(11), object(15)\n",
      "memory usage: 6.7+ MB\n"
     ]
    }
   ],
   "source": [
    "df.info()"
   ]
  },
  {
   "cell_type": "code",
   "execution_count": 7,
   "metadata": {},
   "outputs": [
    {
     "data": {
      "text/plain": [
       "Age of the patient                             0\n",
       "Blood pressure (mm/Hg)                         0\n",
       "Specific gravity of urine                      0\n",
       "Albumin in urine                               0\n",
       "Sugar in urine                                 0\n",
       "Red blood cells in urine                       0\n",
       "Pus cells in urine                             0\n",
       "Pus cell clumps in urine                       0\n",
       "Bacteria in urine                              0\n",
       "Random blood glucose level (mg/dl)             0\n",
       "Blood urea (mg/dl)                             0\n",
       "Serum creatinine (mg/dl)                       0\n",
       "Sodium level (mEq/L)                           0\n",
       "Potassium level (mEq/L)                        0\n",
       "Hemoglobin level (gms)                         0\n",
       "Packed cell volume (%)                         0\n",
       "White blood cell count (cells/cumm)            0\n",
       "Red blood cell count (millions/cumm)           0\n",
       "Hypertension (yes/no)                          0\n",
       "Diabetes mellitus (yes/no)                     0\n",
       "Coronary artery disease (yes/no)               0\n",
       "Appetite (good/poor)                           0\n",
       "Pedal edema (yes/no)                           0\n",
       "Anemia (yes/no)                                0\n",
       "Estimated Glomerular Filtration Rate (eGFR)    0\n",
       "Urine protein-to-creatinine ratio              0\n",
       "Urine output (ml/day)                          0\n",
       "Serum albumin level                            0\n",
       "Cholesterol level                              0\n",
       "Parathyroid hormone (PTH) level                0\n",
       "Serum calcium level                            0\n",
       "Serum phosphate level                          0\n",
       "Family history of chronic kidney disease       0\n",
       "Smoking status                                 0\n",
       "Body Mass Index (BMI)                          0\n",
       "Physical activity level                        0\n",
       "Duration of diabetes mellitus (years)          0\n",
       "Duration of hypertension (years)               0\n",
       "Cystatin C level                               0\n",
       "Urinary sediment microscopy results            0\n",
       "C-reactive protein (CRP) level                 0\n",
       "Interleukin-6 (IL-6) level                     0\n",
       "Target                                         0\n",
       "dtype: int64"
      ]
     },
     "execution_count": 7,
     "metadata": {},
     "output_type": "execute_result"
    }
   ],
   "source": [
    "df.isna().sum()"
   ]
  },
  {
   "cell_type": "code",
   "execution_count": 8,
   "metadata": {},
   "outputs": [],
   "source": [
    "import sklearn\n",
    "from sklearn.preprocessing import StandardScaler, LabelEncoder\n",
    "from sklearn.model_selection import train_test_split"
   ]
  },
  {
   "cell_type": "code",
   "execution_count": 9,
   "metadata": {},
   "outputs": [],
   "source": [
    "x_df = df.drop(columns=[\"Target\"])\n",
    "y_df = df[\"Target\"]"
   ]
  },
  {
   "cell_type": "code",
   "execution_count": 10,
   "metadata": {},
   "outputs": [
    {
     "data": {
      "text/plain": [
       "array(['No_Disease', 'Low_Risk', 'Moderate_Risk', 'Severe_Disease',\n",
       "       'High_Risk'], dtype=object)"
      ]
     },
     "execution_count": 10,
     "metadata": {},
     "output_type": "execute_result"
    }
   ],
   "source": [
    "y_df.unique()"
   ]
  },
  {
   "cell_type": "code",
   "execution_count": 11,
   "metadata": {},
   "outputs": [],
   "source": [
    "encoder = LabelEncoder()\n",
    "y_encoded = encoder.fit_transform(y_df)"
   ]
  },
  {
   "cell_type": "code",
   "execution_count": 12,
   "metadata": {},
   "outputs": [
    {
     "data": {
      "text/plain": [
       "(20538,)"
      ]
     },
     "execution_count": 12,
     "metadata": {},
     "output_type": "execute_result"
    }
   ],
   "source": [
    "y_encoded.shape"
   ]
  },
  {
   "cell_type": "code",
   "execution_count": 13,
   "metadata": {},
   "outputs": [
    {
     "data": {
      "text/plain": [
       "3"
      ]
     },
     "execution_count": 13,
     "metadata": {},
     "output_type": "execute_result"
    }
   ],
   "source": [
    "y_encoded[0]"
   ]
  },
  {
   "cell_type": "code",
   "execution_count": 14,
   "metadata": {},
   "outputs": [
    {
     "data": {
      "text/plain": [
       "'No_Disease'"
      ]
     },
     "execution_count": 14,
     "metadata": {},
     "output_type": "execute_result"
    }
   ],
   "source": [
    "y_df[0]"
   ]
  },
  {
   "cell_type": "code",
   "execution_count": 15,
   "metadata": {},
   "outputs": [],
   "source": [
    "y_encoded_df = pd.DataFrame(y_encoded)"
   ]
  },
  {
   "cell_type": "code",
   "execution_count": 16,
   "metadata": {},
   "outputs": [
    {
     "name": "stdout",
     "output_type": "stream",
     "text": [
      "<class 'pandas.core.frame.DataFrame'>\n",
      "RangeIndex: 20538 entries, 0 to 20537\n",
      "Data columns (total 1 columns):\n",
      " #   Column  Non-Null Count  Dtype\n",
      "---  ------  --------------  -----\n",
      " 0   0       20538 non-null  int64\n",
      "dtypes: int64(1)\n",
      "memory usage: 160.6 KB\n"
     ]
    }
   ],
   "source": [
    "y_encoded_df.info()"
   ]
  },
  {
   "cell_type": "code",
   "execution_count": 17,
   "metadata": {},
   "outputs": [
    {
     "data": {
      "text/html": [
       "<div>\n",
       "<style scoped>\n",
       "    .dataframe tbody tr th:only-of-type {\n",
       "        vertical-align: middle;\n",
       "    }\n",
       "\n",
       "    .dataframe tbody tr th {\n",
       "        vertical-align: top;\n",
       "    }\n",
       "\n",
       "    .dataframe thead th {\n",
       "        text-align: right;\n",
       "    }\n",
       "</style>\n",
       "<table border=\"1\" class=\"dataframe\">\n",
       "  <thead>\n",
       "    <tr style=\"text-align: right;\">\n",
       "      <th></th>\n",
       "      <th>0</th>\n",
       "    </tr>\n",
       "  </thead>\n",
       "  <tbody>\n",
       "    <tr>\n",
       "      <th>0</th>\n",
       "      <td>3</td>\n",
       "    </tr>\n",
       "    <tr>\n",
       "      <th>1</th>\n",
       "      <td>1</td>\n",
       "    </tr>\n",
       "    <tr>\n",
       "      <th>2</th>\n",
       "      <td>3</td>\n",
       "    </tr>\n",
       "    <tr>\n",
       "      <th>3</th>\n",
       "      <td>3</td>\n",
       "    </tr>\n",
       "    <tr>\n",
       "      <th>4</th>\n",
       "      <td>3</td>\n",
       "    </tr>\n",
       "  </tbody>\n",
       "</table>\n",
       "</div>"
      ],
      "text/plain": [
       "   0\n",
       "0  3\n",
       "1  1\n",
       "2  3\n",
       "3  3\n",
       "4  3"
      ]
     },
     "execution_count": 17,
     "metadata": {},
     "output_type": "execute_result"
    }
   ],
   "source": [
    "y_encoded_df.head()"
   ]
  },
  {
   "cell_type": "code",
   "execution_count": 18,
   "metadata": {},
   "outputs": [],
   "source": [
    "cat_cols = x_df.select_dtypes(include=[\"object\"]).columns"
   ]
  },
  {
   "cell_type": "code",
   "execution_count": 19,
   "metadata": {},
   "outputs": [],
   "source": [
    "x_df = pd.get_dummies(x_df, columns=cat_cols, drop_first=True)"
   ]
  },
  {
   "cell_type": "code",
   "execution_count": 20,
   "metadata": {},
   "outputs": [
    {
     "name": "stdout",
     "output_type": "stream",
     "text": [
      "<class 'pandas.core.frame.DataFrame'>\n",
      "RangeIndex: 20538 entries, 0 to 20537\n",
      "Data columns (total 43 columns):\n",
      " #   Column                                        Non-Null Count  Dtype  \n",
      "---  ------                                        --------------  -----  \n",
      " 0   Age of the patient                            20538 non-null  int64  \n",
      " 1   Blood pressure (mm/Hg)                        20538 non-null  int64  \n",
      " 2   Specific gravity of urine                     20538 non-null  float64\n",
      " 3   Albumin in urine                              20538 non-null  int64  \n",
      " 4   Sugar in urine                                20538 non-null  int64  \n",
      " 5   Random blood glucose level (mg/dl)            20538 non-null  int64  \n",
      " 6   Blood urea (mg/dl)                            20538 non-null  float64\n",
      " 7   Serum creatinine (mg/dl)                      20538 non-null  float64\n",
      " 8   Sodium level (mEq/L)                          20538 non-null  float64\n",
      " 9   Potassium level (mEq/L)                       20538 non-null  float64\n",
      " 10  Hemoglobin level (gms)                        20538 non-null  float64\n",
      " 11  Packed cell volume (%)                        20538 non-null  int64  \n",
      " 12  White blood cell count (cells/cumm)           20538 non-null  int64  \n",
      " 13  Red blood cell count (millions/cumm)          20538 non-null  float64\n",
      " 14  Estimated Glomerular Filtration Rate (eGFR)   20538 non-null  float64\n",
      " 15  Urine protein-to-creatinine ratio             20538 non-null  float64\n",
      " 16  Urine output (ml/day)                         20538 non-null  int64  \n",
      " 17  Serum albumin level                           20538 non-null  float64\n",
      " 18  Cholesterol level                             20538 non-null  int64  \n",
      " 19  Parathyroid hormone (PTH) level               20538 non-null  float64\n",
      " 20  Serum calcium level                           20538 non-null  float64\n",
      " 21  Serum phosphate level                         20538 non-null  float64\n",
      " 22  Body Mass Index (BMI)                         20538 non-null  float64\n",
      " 23  Duration of diabetes mellitus (years)         20538 non-null  int64  \n",
      " 24  Duration of hypertension (years)              20538 non-null  int64  \n",
      " 25  Cystatin C level                              20538 non-null  float64\n",
      " 26  C-reactive protein (CRP) level                20538 non-null  float64\n",
      " 27  Interleukin-6 (IL-6) level                    20538 non-null  float64\n",
      " 28  Red blood cells in urine_normal               20538 non-null  bool   \n",
      " 29  Pus cells in urine_normal                     20538 non-null  bool   \n",
      " 30  Pus cell clumps in urine_present              20538 non-null  bool   \n",
      " 31  Bacteria in urine_present                     20538 non-null  bool   \n",
      " 32  Hypertension (yes/no)_yes                     20538 non-null  bool   \n",
      " 33  Diabetes mellitus (yes/no)_yes                20538 non-null  bool   \n",
      " 34  Coronary artery disease (yes/no)_yes          20538 non-null  bool   \n",
      " 35  Appetite (good/poor)_poor                     20538 non-null  bool   \n",
      " 36  Pedal edema (yes/no)_yes                      20538 non-null  bool   \n",
      " 37  Anemia (yes/no)_yes                           20538 non-null  bool   \n",
      " 38  Family history of chronic kidney disease_yes  20538 non-null  bool   \n",
      " 39  Smoking status_yes                            20538 non-null  bool   \n",
      " 40  Physical activity level_low                   20538 non-null  bool   \n",
      " 41  Physical activity level_moderate              20538 non-null  bool   \n",
      " 42  Urinary sediment microscopy results_normal    20538 non-null  bool   \n",
      "dtypes: bool(15), float64(17), int64(11)\n",
      "memory usage: 4.7 MB\n"
     ]
    }
   ],
   "source": [
    "x_df.info()"
   ]
  },
  {
   "cell_type": "code",
   "execution_count": 21,
   "metadata": {},
   "outputs": [
    {
     "data": {
      "text/html": [
       "<div>\n",
       "<style scoped>\n",
       "    .dataframe tbody tr th:only-of-type {\n",
       "        vertical-align: middle;\n",
       "    }\n",
       "\n",
       "    .dataframe tbody tr th {\n",
       "        vertical-align: top;\n",
       "    }\n",
       "\n",
       "    .dataframe thead th {\n",
       "        text-align: right;\n",
       "    }\n",
       "</style>\n",
       "<table border=\"1\" class=\"dataframe\">\n",
       "  <thead>\n",
       "    <tr style=\"text-align: right;\">\n",
       "      <th></th>\n",
       "      <th>Age of the patient</th>\n",
       "      <th>Blood pressure (mm/Hg)</th>\n",
       "      <th>Specific gravity of urine</th>\n",
       "      <th>Albumin in urine</th>\n",
       "      <th>Sugar in urine</th>\n",
       "      <th>Random blood glucose level (mg/dl)</th>\n",
       "      <th>Blood urea (mg/dl)</th>\n",
       "      <th>Serum creatinine (mg/dl)</th>\n",
       "      <th>Sodium level (mEq/L)</th>\n",
       "      <th>Potassium level (mEq/L)</th>\n",
       "      <th>...</th>\n",
       "      <th>Diabetes mellitus (yes/no)_yes</th>\n",
       "      <th>Coronary artery disease (yes/no)_yes</th>\n",
       "      <th>Appetite (good/poor)_poor</th>\n",
       "      <th>Pedal edema (yes/no)_yes</th>\n",
       "      <th>Anemia (yes/no)_yes</th>\n",
       "      <th>Family history of chronic kidney disease_yes</th>\n",
       "      <th>Smoking status_yes</th>\n",
       "      <th>Physical activity level_low</th>\n",
       "      <th>Physical activity level_moderate</th>\n",
       "      <th>Urinary sediment microscopy results_normal</th>\n",
       "    </tr>\n",
       "  </thead>\n",
       "  <tbody>\n",
       "    <tr>\n",
       "      <th>0</th>\n",
       "      <td>54</td>\n",
       "      <td>167</td>\n",
       "      <td>1.023</td>\n",
       "      <td>1</td>\n",
       "      <td>4</td>\n",
       "      <td>96</td>\n",
       "      <td>169.101369</td>\n",
       "      <td>7.55</td>\n",
       "      <td>146.068410</td>\n",
       "      <td>6.272576</td>\n",
       "      <td>...</td>\n",
       "      <td>True</td>\n",
       "      <td>False</td>\n",
       "      <td>False</td>\n",
       "      <td>False</td>\n",
       "      <td>False</td>\n",
       "      <td>False</td>\n",
       "      <td>True</td>\n",
       "      <td>True</td>\n",
       "      <td>False</td>\n",
       "      <td>True</td>\n",
       "    </tr>\n",
       "    <tr>\n",
       "      <th>1</th>\n",
       "      <td>42</td>\n",
       "      <td>127</td>\n",
       "      <td>1.023</td>\n",
       "      <td>3</td>\n",
       "      <td>2</td>\n",
       "      <td>73</td>\n",
       "      <td>183.223479</td>\n",
       "      <td>13.37</td>\n",
       "      <td>123.501427</td>\n",
       "      <td>5.611303</td>\n",
       "      <td>...</td>\n",
       "      <td>True</td>\n",
       "      <td>False</td>\n",
       "      <td>False</td>\n",
       "      <td>True</td>\n",
       "      <td>True</td>\n",
       "      <td>True</td>\n",
       "      <td>False</td>\n",
       "      <td>False</td>\n",
       "      <td>True</td>\n",
       "      <td>False</td>\n",
       "    </tr>\n",
       "    <tr>\n",
       "      <th>2</th>\n",
       "      <td>38</td>\n",
       "      <td>148</td>\n",
       "      <td>1.016</td>\n",
       "      <td>0</td>\n",
       "      <td>0</td>\n",
       "      <td>77</td>\n",
       "      <td>193.141665</td>\n",
       "      <td>9.49</td>\n",
       "      <td>149.456527</td>\n",
       "      <td>3.965957</td>\n",
       "      <td>...</td>\n",
       "      <td>False</td>\n",
       "      <td>True</td>\n",
       "      <td>False</td>\n",
       "      <td>True</td>\n",
       "      <td>False</td>\n",
       "      <td>False</td>\n",
       "      <td>False</td>\n",
       "      <td>False</td>\n",
       "      <td>False</td>\n",
       "      <td>False</td>\n",
       "    </tr>\n",
       "    <tr>\n",
       "      <th>3</th>\n",
       "      <td>7</td>\n",
       "      <td>98</td>\n",
       "      <td>1.017</td>\n",
       "      <td>4</td>\n",
       "      <td>0</td>\n",
       "      <td>225</td>\n",
       "      <td>125.939396</td>\n",
       "      <td>10.98</td>\n",
       "      <td>131.758843</td>\n",
       "      <td>4.980997</td>\n",
       "      <td>...</td>\n",
       "      <td>False</td>\n",
       "      <td>True</td>\n",
       "      <td>False</td>\n",
       "      <td>False</td>\n",
       "      <td>True</td>\n",
       "      <td>False</td>\n",
       "      <td>False</td>\n",
       "      <td>False</td>\n",
       "      <td>False</td>\n",
       "      <td>False</td>\n",
       "    </tr>\n",
       "    <tr>\n",
       "      <th>4</th>\n",
       "      <td>67</td>\n",
       "      <td>174</td>\n",
       "      <td>1.015</td>\n",
       "      <td>1</td>\n",
       "      <td>1</td>\n",
       "      <td>376</td>\n",
       "      <td>197.188600</td>\n",
       "      <td>3.01</td>\n",
       "      <td>120.912465</td>\n",
       "      <td>4.097602</td>\n",
       "      <td>...</td>\n",
       "      <td>False</td>\n",
       "      <td>False</td>\n",
       "      <td>False</td>\n",
       "      <td>True</td>\n",
       "      <td>True</td>\n",
       "      <td>False</td>\n",
       "      <td>True</td>\n",
       "      <td>False</td>\n",
       "      <td>False</td>\n",
       "      <td>True</td>\n",
       "    </tr>\n",
       "  </tbody>\n",
       "</table>\n",
       "<p>5 rows × 43 columns</p>\n",
       "</div>"
      ],
      "text/plain": [
       "   Age of the patient  Blood pressure (mm/Hg)  Specific gravity of urine  \\\n",
       "0                  54                     167                      1.023   \n",
       "1                  42                     127                      1.023   \n",
       "2                  38                     148                      1.016   \n",
       "3                   7                      98                      1.017   \n",
       "4                  67                     174                      1.015   \n",
       "\n",
       "   Albumin in urine  Sugar in urine  Random blood glucose level (mg/dl)  \\\n",
       "0                 1               4                                  96   \n",
       "1                 3               2                                  73   \n",
       "2                 0               0                                  77   \n",
       "3                 4               0                                 225   \n",
       "4                 1               1                                 376   \n",
       "\n",
       "   Blood urea (mg/dl)  Serum creatinine (mg/dl)  Sodium level (mEq/L)  \\\n",
       "0          169.101369                      7.55            146.068410   \n",
       "1          183.223479                     13.37            123.501427   \n",
       "2          193.141665                      9.49            149.456527   \n",
       "3          125.939396                     10.98            131.758843   \n",
       "4          197.188600                      3.01            120.912465   \n",
       "\n",
       "   Potassium level (mEq/L)  ...  Diabetes mellitus (yes/no)_yes  \\\n",
       "0                 6.272576  ...                            True   \n",
       "1                 5.611303  ...                            True   \n",
       "2                 3.965957  ...                           False   \n",
       "3                 4.980997  ...                           False   \n",
       "4                 4.097602  ...                           False   \n",
       "\n",
       "   Coronary artery disease (yes/no)_yes  Appetite (good/poor)_poor  \\\n",
       "0                                 False                      False   \n",
       "1                                 False                      False   \n",
       "2                                  True                      False   \n",
       "3                                  True                      False   \n",
       "4                                 False                      False   \n",
       "\n",
       "   Pedal edema (yes/no)_yes  Anemia (yes/no)_yes  \\\n",
       "0                     False                False   \n",
       "1                      True                 True   \n",
       "2                      True                False   \n",
       "3                     False                 True   \n",
       "4                      True                 True   \n",
       "\n",
       "   Family history of chronic kidney disease_yes  Smoking status_yes  \\\n",
       "0                                         False                True   \n",
       "1                                          True               False   \n",
       "2                                         False               False   \n",
       "3                                         False               False   \n",
       "4                                         False                True   \n",
       "\n",
       "   Physical activity level_low  Physical activity level_moderate  \\\n",
       "0                         True                             False   \n",
       "1                        False                              True   \n",
       "2                        False                             False   \n",
       "3                        False                             False   \n",
       "4                        False                             False   \n",
       "\n",
       "   Urinary sediment microscopy results_normal  \n",
       "0                                        True  \n",
       "1                                       False  \n",
       "2                                       False  \n",
       "3                                       False  \n",
       "4                                        True  \n",
       "\n",
       "[5 rows x 43 columns]"
      ]
     },
     "execution_count": 21,
     "metadata": {},
     "output_type": "execute_result"
    }
   ],
   "source": [
    "x_df.head()"
   ]
  },
  {
   "cell_type": "code",
   "execution_count": 22,
   "metadata": {},
   "outputs": [],
   "source": [
    "x_train, x_val, y_train, y_val = train_test_split(\n",
    "    x_df, y_encoded_df, test_size=0.2, random_state=42)"
   ]
  },
  {
   "cell_type": "code",
   "execution_count": 23,
   "metadata": {},
   "outputs": [],
   "source": [
    "scaler = StandardScaler()\n",
    "x_train = scaler.fit_transform(x_train)\n",
    "x_val = scaler.transform(x_val)"
   ]
  },
  {
   "cell_type": "code",
   "execution_count": 24,
   "metadata": {},
   "outputs": [
    {
     "name": "stdout",
     "output_type": "stream",
     "text": [
      "(16430, 43) (16430, 1) (4108, 43) (4108, 1)\n"
     ]
    }
   ],
   "source": [
    "print(x_train.shape, y_train.shape, x_val.shape, y_val.shape)"
   ]
  },
  {
   "cell_type": "code",
   "execution_count": 25,
   "metadata": {},
   "outputs": [
    {
     "data": {
      "text/plain": [
       "(16430,)"
      ]
     },
     "execution_count": 25,
     "metadata": {},
     "output_type": "execute_result"
    }
   ],
   "source": [
    "y_train = np.array(y_train).reshape((16430,)).astype(int)\n",
    "y_train.shape"
   ]
  },
  {
   "cell_type": "code",
   "execution_count": 26,
   "metadata": {},
   "outputs": [
    {
     "data": {
      "text/plain": [
       "(4108,)"
      ]
     },
     "execution_count": 26,
     "metadata": {},
     "output_type": "execute_result"
    }
   ],
   "source": [
    "y_val = np.array(y_val).reshape((4108,)).astype(int)\n",
    "y_val.shape"
   ]
  },
  {
   "cell_type": "code",
   "execution_count": 38,
   "metadata": {},
   "outputs": [
    {
     "name": "stdout",
     "output_type": "stream",
     "text": [
      "Epoch 1/20\n",
      "\u001b[1m129/129\u001b[0m \u001b[32m━━━━━━━━━━━━━━━━━━━━\u001b[0m\u001b[37m\u001b[0m \u001b[1m2s\u001b[0m 3ms/step - accuracy: 0.4288 - loss: 1.5257\n",
      "Epoch 2/20\n",
      "\u001b[1m129/129\u001b[0m \u001b[32m━━━━━━━━━━━━━━━━━━━━\u001b[0m\u001b[37m\u001b[0m \u001b[1m0s\u001b[0m 3ms/step - accuracy: 0.7693 - loss: 1.0160\n",
      "Epoch 3/20\n",
      "\u001b[1m129/129\u001b[0m \u001b[32m━━━━━━━━━━━━━━━━━━━━\u001b[0m\u001b[37m\u001b[0m \u001b[1m0s\u001b[0m 2ms/step - accuracy: 0.7969 - loss: 0.9320\n",
      "Epoch 4/20\n",
      "\u001b[1m129/129\u001b[0m \u001b[32m━━━━━━━━━━━━━━━━━━━━\u001b[0m\u001b[37m\u001b[0m \u001b[1m0s\u001b[0m 2ms/step - accuracy: 0.7986 - loss: 0.8964\n",
      "Epoch 5/20\n",
      "\u001b[1m129/129\u001b[0m \u001b[32m━━━━━━━━━━━━━━━━━━━━\u001b[0m\u001b[37m\u001b[0m \u001b[1m0s\u001b[0m 2ms/step - accuracy: 0.8008 - loss: 0.8398\n",
      "Epoch 6/20\n",
      "\u001b[1m129/129\u001b[0m \u001b[32m━━━━━━━━━━━━━━━━━━━━\u001b[0m\u001b[37m\u001b[0m \u001b[1m0s\u001b[0m 2ms/step - accuracy: 0.7971 - loss: 0.8331\n",
      "Epoch 7/20\n",
      "\u001b[1m129/129\u001b[0m \u001b[32m━━━━━━━━━━━━━━━━━━━━\u001b[0m\u001b[37m\u001b[0m \u001b[1m0s\u001b[0m 3ms/step - accuracy: 0.8041 - loss: 0.7904\n",
      "Epoch 8/20\n",
      "\u001b[1m129/129\u001b[0m \u001b[32m━━━━━━━━━━━━━━━━━━━━\u001b[0m\u001b[37m\u001b[0m \u001b[1m0s\u001b[0m 2ms/step - accuracy: 0.8001 - loss: 0.8020\n",
      "Epoch 9/20\n",
      "\u001b[1m129/129\u001b[0m \u001b[32m━━━━━━━━━━━━━━━━━━━━\u001b[0m\u001b[37m\u001b[0m \u001b[1m0s\u001b[0m 3ms/step - accuracy: 0.8004 - loss: 0.7929\n",
      "Epoch 10/20\n",
      "\u001b[1m129/129\u001b[0m \u001b[32m━━━━━━━━━━━━━━━━━━━━\u001b[0m\u001b[37m\u001b[0m \u001b[1m0s\u001b[0m 2ms/step - accuracy: 0.7963 - loss: 0.7917\n",
      "Epoch 11/20\n",
      "\u001b[1m129/129\u001b[0m \u001b[32m━━━━━━━━━━━━━━━━━━━━\u001b[0m\u001b[37m\u001b[0m \u001b[1m0s\u001b[0m 4ms/step - accuracy: 0.8047 - loss: 0.7725\n",
      "Epoch 12/20\n",
      "\u001b[1m129/129\u001b[0m \u001b[32m━━━━━━━━━━━━━━━━━━━━\u001b[0m\u001b[37m\u001b[0m \u001b[1m0s\u001b[0m 3ms/step - accuracy: 0.7928 - loss: 0.7941\n",
      "Epoch 13/20\n",
      "\u001b[1m129/129\u001b[0m \u001b[32m━━━━━━━━━━━━━━━━━━━━\u001b[0m\u001b[37m\u001b[0m \u001b[1m0s\u001b[0m 2ms/step - accuracy: 0.7954 - loss: 0.7886\n",
      "Epoch 14/20\n",
      "\u001b[1m129/129\u001b[0m \u001b[32m━━━━━━━━━━━━━━━━━━━━\u001b[0m\u001b[37m\u001b[0m \u001b[1m0s\u001b[0m 2ms/step - accuracy: 0.7961 - loss: 0.7838\n",
      "Epoch 15/20\n",
      "\u001b[1m129/129\u001b[0m \u001b[32m━━━━━━━━━━━━━━━━━━━━\u001b[0m\u001b[37m\u001b[0m \u001b[1m0s\u001b[0m 3ms/step - accuracy: 0.8028 - loss: 0.7584\n",
      "Epoch 16/20\n",
      "\u001b[1m129/129\u001b[0m \u001b[32m━━━━━━━━━━━━━━━━━━━━\u001b[0m\u001b[37m\u001b[0m \u001b[1m0s\u001b[0m 3ms/step - accuracy: 0.7998 - loss: 0.7663\n",
      "Epoch 17/20\n",
      "\u001b[1m129/129\u001b[0m \u001b[32m━━━━━━━━━━━━━━━━━━━━\u001b[0m\u001b[37m\u001b[0m \u001b[1m0s\u001b[0m 2ms/step - accuracy: 0.8019 - loss: 0.7561\n",
      "Epoch 18/20\n",
      "\u001b[1m129/129\u001b[0m \u001b[32m━━━━━━━━━━━━━━━━━━━━\u001b[0m\u001b[37m\u001b[0m \u001b[1m0s\u001b[0m 2ms/step - accuracy: 0.7977 - loss: 0.7640\n",
      "Epoch 19/20\n",
      "\u001b[1m129/129\u001b[0m \u001b[32m━━━━━━━━━━━━━━━━━━━━\u001b[0m\u001b[37m\u001b[0m \u001b[1m0s\u001b[0m 2ms/step - accuracy: 0.7980 - loss: 0.7591\n",
      "Epoch 20/20\n",
      "\u001b[1m129/129\u001b[0m \u001b[32m━━━━━━━━━━━━━━━━━━━━\u001b[0m\u001b[37m\u001b[0m \u001b[1m0s\u001b[0m 3ms/step - accuracy: 0.7965 - loss: 0.7709\n"
     ]
    }
   ],
   "source": [
    "optimizer = optimizers.Adam(learning_rate=0.001)\n",
    "model = keras.Sequential([\n",
    "    layers.Dense(128, activation=\"relu\"),\n",
    "    layers.Dropout(0.5),\n",
    "    layers.Dense(64, activation=\"relu\"),\n",
    "    layers.Dropout(0.5),\n",
    "    layers.Dense(32, activation=\"relu\"),\n",
    "    layers.Dropout(0.5),\n",
    "    layers.Dense(16, activation=\"relu\"),\n",
    "    layers.Dropout(0.5),\n",
    "    layers.Dense(5, activation=\"softmax\")\n",
    "])\n",
    "model.compile(optimizer=optimizer,\n",
    "              loss=\"sparse_categorical_crossentropy\",\n",
    "              metrics=[\"accuracy\"])\n",
    "history = model.fit(x_train, y_train, epochs=20, batch_size=128)"
   ]
  },
  {
   "cell_type": "code",
   "execution_count": 39,
   "metadata": {},
   "outputs": [
    {
     "name": "stdout",
     "output_type": "stream",
     "text": [
      "\u001b[1m129/129\u001b[0m \u001b[32m━━━━━━━━━━━━━━━━━━━━\u001b[0m\u001b[37m\u001b[0m \u001b[1m0s\u001b[0m 2ms/step - accuracy: 0.8114 - loss: 0.7083\n"
     ]
    }
   ],
   "source": [
    "val_loss, val_accuracy = model.evaluate(x_val, y_val)"
   ]
  }
 ],
 "metadata": {
  "kernelspec": {
   "display_name": "kidney_disease",
   "language": "python",
   "name": "kidney_disease"
  },
  "language_info": {
   "codemirror_mode": {
    "name": "ipython",
    "version": 3
   },
   "file_extension": ".py",
   "mimetype": "text/x-python",
   "name": "python",
   "nbconvert_exporter": "python",
   "pygments_lexer": "ipython3",
   "version": "3.10.13"
  }
 },
 "nbformat": 4,
 "nbformat_minor": 2
}
